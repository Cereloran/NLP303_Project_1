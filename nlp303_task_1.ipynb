{
 "cells": [
  {
   "metadata": {},
   "cell_type": "markdown",
   "source": [
    "# NLP 303 - Natural Language Processing\n",
    "## Task 1\n",
    "### By: Michael Cuffe\n",
    "### Assessment 1\n",
    "### Due: 20/10/2024 23:59"
   ],
   "id": "2b4bfee7ee3232c3"
  },
  {
   "metadata": {},
   "cell_type": "markdown",
   "source": [
    "### Install Necessary Libraries\n",
    "The library installation messages are suppressed by adding > NUL 2>&1 to the end of the pip install command. This is done to prevent the output from being displayed in the notebook for readability.<br> \n",
    "The keras library fixes a compatibility error with the transformers library."
   ],
   "id": "6a5dc1d0853c80fa"
  },
  {
   "cell_type": "code",
   "id": "initial_id",
   "metadata": {
    "collapsed": true,
    "ExecuteTime": {
     "end_time": "2024-10-19T08:24:11.609824Z",
     "start_time": "2024-10-19T08:24:09.676133Z"
    }
   },
   "source": [
    "!pip install transformers > NUL 2>&1\n",
    "!pip install tensorflow > NUL 2>&1\n",
    "!pip install tf-keras > NUL 2>&1"
   ],
   "outputs": [],
   "execution_count": 13
  },
  {
   "metadata": {},
   "cell_type": "markdown",
   "source": [
    "# Testing The Installation of Transformers\n",
    "This code block tests the installation of the transformers library. It is a simple test to ensure that the library is installed correctly and is functioning as intended.\n",
    "\n",
    "This block also doubles as a global declaration of the transformers pipeline. This is done to ensure that the pipeline is available to all code blocks in the notebook."
   ],
   "id": "2e34753d156c0e63"
  },
  {
   "metadata": {
    "ExecuteTime": {
     "end_time": "2024-10-19T08:12:08.429832Z",
     "start_time": "2024-10-19T08:11:41.864232Z"
    }
   },
   "cell_type": "code",
   "source": "from transformers import pipeline",
   "id": "f5cac2a1adb66fc9",
   "outputs": [],
   "execution_count": 4
  },
  {
   "metadata": {},
   "cell_type": "markdown",
   "source": [
    "## Check that transformers is functional.\n",
    "\n",
    "As im running this locally i also had to define the device as 0 to enable GPU usage.\n",
    "All pipelines use the recommended default models for the task.\n",
    "clean_up_tokenization_spaces = True is just to suppress a warning about a future update."
   ],
   "id": "6a53515d0775eb42"
  },
  {
   "metadata": {
    "ExecuteTime": {
     "end_time": "2024-10-19T08:26:31.976987Z",
     "start_time": "2024-10-19T08:26:29.449261Z"
    }
   },
   "cell_type": "code",
   "source": [
    "translator = pipeline(\"translation_en_to_de\", clean_up_tokenization_spaces = True, model=\"google-t5/t5-base\", device=0)\n",
    "print(translator(\"The magic of transformers lies in pre-trained models\"))"
   ],
   "id": "fec397d209670585",
   "outputs": [
    {
     "name": "stdout",
     "output_type": "stream",
     "text": [
      "[{'translation_text': 'Die Magie der Transformatoren liegt in vorgeschulten Modellen'}]\n"
     ]
    }
   ],
   "execution_count": 15
  },
  {
   "metadata": {},
   "cell_type": "markdown",
   "source": [
    "# NER Pipeline\n",
    "### Named Entity Recognition\n",
    "\n",
    "This code block is quite simple. The code block is broken down into 4 parts.\n",
    "1. The initialization of the pipeline.\n",
    "2. The specification of a sequence of text.\n",
    "3. The NER of the text.\n",
    "4. The results are printed in a for loop to make them more readable.\n",
    "\n",
    "ORG = Organizations <br>\n",
    "LOC = Locations <br>\n",
    "PER = Persons <br>\n",
    "MISC = Miscellaneous <br>\n",
    "\n",
    "This node displays an error however the error can safely be ignored as the code is functional and the error is expected.\n"
   ],
   "id": "79a657882de22b6d"
  },
  {
   "metadata": {
    "ExecuteTime": {
     "end_time": "2024-10-19T08:16:45.699177Z",
     "start_time": "2024-10-19T08:16:42.494242Z"
    }
   },
   "cell_type": "code",
   "source": [
    "ner_pipeline = pipeline(\"ner\", aggregation_strategy=\"simple\", model=\"dbmdz/bert-large-cased-finetuned-conll03-english\",\n",
    "                        device=0)\n",
    "\n",
    "text = \"Steve Irwin was born in Australia. He was a leading nature conservationist and led and curated Taronga Zoo with the help of the NSW Government.\"\n",
    "\n",
    "ner_results = ner_pipeline(text)\n",
    "\n",
    "for entity in ner_results:\n",
    "    print(f\"Entity: {entity['word']}, Type: {entity['entity_group']}, Score: {entity['score']:.4f}\")"
   ],
   "id": "1ff8d4b52465300b",
   "outputs": [
    {
     "name": "stderr",
     "output_type": "stream",
     "text": [
      "Some weights of the model checkpoint at dbmdz/bert-large-cased-finetuned-conll03-english were not used when initializing BertForTokenClassification: ['bert.pooler.dense.bias', 'bert.pooler.dense.weight']\n",
      "- This IS expected if you are initializing BertForTokenClassification from the checkpoint of a model trained on another task or with another architecture (e.g. initializing a BertForSequenceClassification model from a BertForPreTraining model).\n",
      "- This IS NOT expected if you are initializing BertForTokenClassification from the checkpoint of a model that you expect to be exactly identical (initializing a BertForSequenceClassification model from a BertForSequenceClassification model).\n"
     ]
    },
    {
     "name": "stdout",
     "output_type": "stream",
     "text": [
      "Entity: Steve Irwin, Type: PER, Score: 0.9997\n",
      "Entity: Australia, Type: LOC, Score: 0.9995\n",
      "Entity: Taronga Zoo, Type: LOC, Score: 0.8920\n",
      "Entity: NSW Government, Type: ORG, Score: 0.8671\n"
     ]
    }
   ],
   "execution_count": 11
  },
  {
   "metadata": {},
   "cell_type": "markdown",
   "source": "# ",
   "id": "5d101997cf12c906"
  },
  {
   "metadata": {},
   "cell_type": "markdown",
   "source": [
    "# Sentiment Analysis\n",
    "This code block is quite simple. The code block is broken down into 3 parts.\n",
    "1. The initialization of the pipeline.\n",
    "2. The specification of a sequence of text.\n",
    "3. The sentiment analysis of the text."
   ],
   "id": "3335ae2a5b5bbabb"
  },
  {
   "metadata": {
    "ExecuteTime": {
     "end_time": "2024-10-19T08:12:33.423836Z",
     "start_time": "2024-10-19T08:12:31.088567Z"
    }
   },
   "cell_type": "code",
   "source": [
    "sentiment_pipeline = pipeline(\"sentiment-analysis\", model=\"distilbert-base-uncased-finetuned-sst-2-english\", device=0)\n",
    "\n",
    "sequence1 = \"I love the coding in python!\"\n",
    "sequence2 = \"Using 200 nested if statements is terrible.\"\n",
    "\n",
    "sentiment_results1 = sentiment_pipeline(sequence1)\n",
    "sentiment_results2 = sentiment_pipeline(sequence2)\n",
    "\n",
    "print(sentiment_results1)\n",
    "print(sentiment_results2)"
   ],
   "id": "145d76bb0eba791a",
   "outputs": [
    {
     "name": "stdout",
     "output_type": "stream",
     "text": [
      "[{'label': 'POSITIVE', 'score': 0.9996840953826904}]\n",
      "[{'label': 'NEGATIVE', 'score': 0.9977462887763977}]\n"
     ]
    }
   ],
   "execution_count": 7
  },
  {
   "metadata": {},
   "cell_type": "markdown",
   "source": [
    "# Summarization Pipeline\n",
    "This code block looks long but is in fact quite simple. The code block is broken down into 3 parts.\n",
    "1. The initialization of the pipeline.\n",
    "2. The specification of a sequence of text.\n",
    "3. The summarization of the text."
   ],
   "id": "25d4e603e99732ae"
  },
  {
   "metadata": {
    "ExecuteTime": {
     "end_time": "2024-10-19T08:12:37.552827Z",
     "start_time": "2024-10-19T08:12:33.453533Z"
    }
   },
   "cell_type": "code",
   "source": [
    "summarization_pipeline = pipeline(\"summarization\", model=\"sshleifer/distilbart-cnn-12-6\", device=0)\n",
    "\n",
    "long_text = \"\"\"\n",
    "The young fox went along the river until he met a large old toad. Upon meeting the toad the fox was baffled.\n",
    "The toad was not afraid of the fox and the fox was not afraid of the toad. They both sat down and without a word conversed.\n",
    "The fox tilted his head and the toad blinked. The fox blinked and the toad tilted his head.\n",
    "The toad with her wide eyes spotted a fly on the fox and the fox with his keen eyes spotted a mouse under the toad. \n",
    "They both looked at each-other for a moment as if to request permission for what each wanted permission neither of them knew.\n",
    "They did however feel their stomachs grumble and their mouths water. They both still sat and without a sound conversed.\n",
    "The fly and the mouse were both aware of the fox and the toad. Neither dared to move in terror of their impending doom.\n",
    "When the fox and the toad made eye contact once more they both knew what the other wanted.\n",
    "At the very same moment the fox lunged at the toad and the toad lunged at the fox. The fly and the mouse at this point had also had their own conversation wordlessly. With the time allowed to them the fly hurried toward the fox and the mouse dashed toward the toad.\n",
    "The fox and the toad collided with a large resounding crash, while the fly and the mouth made their escape in the confusion.\n",
    "The fox and the toad both lay on the ground dazed and confused. They both looked at each-other and without a sound conversed.\n",
    "Until both their bellies grumbled loudly and they both knew what the other wanted. They both stood up and walked away in shame of their poor communication skills. \n",
    "If only they were not so shy and had shown their cards sooner they both would have had a meal.\n",
    "\"\"\"\n",
    "\n",
    "summary = summarization_pipeline(long_text, max_length=100, min_length=30, do_sample=False)\n",
    "print(summary)"
   ],
   "id": "6e260debdf7bfeb",
   "outputs": [
    {
     "name": "stdout",
     "output_type": "stream",
     "text": [
      "[{'summary_text': ' The young fox went along the river until he met a large old toad . Upon meeting the toad the fox was baffled . The toad was not afraid of the fox . They both sat down and without a word conversed. They both looked at each-other for a moment as if to request permission for what each wanted .'}]\n"
     ]
    }
   ],
   "execution_count": 8
  },
  {
   "metadata": {},
   "cell_type": "markdown",
   "source": [
    "# Text Generation\n",
    "This code is broken down into 3 parts.\n",
    "1. The initialization of the pipeline.\n",
    "2. The specification of a starting sequence of text.\n",
    "3. The generation and then printing of text."
   ],
   "id": "71bb4f85e809d73d"
  },
  {
   "metadata": {
    "ExecuteTime": {
     "end_time": "2024-10-19T08:12:44.870299Z",
     "start_time": "2024-10-19T08:12:37.655929Z"
    }
   },
   "cell_type": "code",
   "source": [
    "text_generation_pipeline = pipeline(\"text-generation\", model=\"gpt2\", device=0, truncation=True)\n",
    "\n",
    "starting_text = \"Upon the spire, above the clouds rested a scintillating dragon,\"\n",
    "\n",
    "generated_text = text_generation_pipeline(starting_text, max_length=500, pad_token_id=50256)\n",
    "print(generated_text[0]['generated_text'])"
   ],
   "id": "2b52718d8869205c",
   "outputs": [
    {
     "name": "stdout",
     "output_type": "stream",
     "text": [
      "Upon the spire, above the clouds rested a scintillating dragon, whose form appeared in several places, bearing the likeness of a dragon, and who seemed to have passed by an abyss, and to have traveled far and near.\n",
      "\n",
      "Some of these were of a species much affected with hatred, others of a different kind, and even a great loss of life, but all of these were of the same type, and the whole was destroyed, and nothing in its place fell from it. That those who have no knowledge of such things are those of greater age than they belong to may be judged by one or two specimens. Now we shall not say that the destruction of this creature, that is, that which was lost from one place to another, without being destroyed in one location, but we must say, that the destruction of that which is lost in one place to another is a common act of justice. It was said, When a man is killed this does not belong to him, but when death came out he died again. So it was said, If a man dies of this, and is buried therein, so that when his friends and relatives died they were not his friends, and would not have loved him, that is what the world says.\n",
      "\n",
      "For there is not in any place what in one person did not happen to another, and that is something far too common.\n",
      "\n",
      "\"The man that is killed will not be a person in the same person; nor will he receive the death, nor get the consolation of God, nor receive the burial because the person who is buried is not a mortal, but is the descendant of that that was buried. Nor should a man die of this, and is buried therein like one of those that were killed.\"\n",
      "\n",
      "Thus it was said, One of the things that is not given is one death, but one life, so that the world is full of such things, that none that is dead may rise again from thence, and yet this is one of the only things left to man, that is, an account of one death for eternity.\n",
      "\n",
      "It is impossible to say nothing concerning the death of a creature, but what those who have knowledge of life-giving mysteries say about those that follow on from being born and keep upon being, what those who have not, can say of every life that is left upon this earth. But if we are to ask ourselves, Who are those who are so greatly\n"
     ]
    }
   ],
   "execution_count": 9
  },
  {
   "metadata": {},
   "cell_type": "markdown",
   "source": [
    "# Question Answering\n",
    "This code block is much the same as the others in structure. The code block is broken down into 3 parts.\n",
    "1. The initialization of the pipeline.\n",
    "2. The specification of a context and a question.\n",
    "3. The question answering."
   ],
   "id": "7cda0089fa7e95e7"
  },
  {
   "metadata": {
    "ExecuteTime": {
     "end_time": "2024-10-19T08:12:46.240074Z",
     "start_time": "2024-10-19T08:12:44.950967Z"
    }
   },
   "cell_type": "code",
   "source": [
    "qa_pipeline = pipeline(\"question-answering\", model=\"distilbert/distilbert-base-cased-distilled-squad\", device=0)\n",
    "\n",
    "context = \"\"\"\n",
    "Python is a programming language. It is used for web development, data analysis, artificial intelligence, and scientific computing.\n",
    "Python is easy to learn and has a large community. Python is an interpreted language, which means that it is executed line by line.\n",
    "It is known for its readability and simplicity. Python is an object-oriented language, which means that it can model real-world entities.\n",
    "Python doesnt require a compiler, which makes it easier to debug. Python is a high-level language, which means that it is closer to human language.\n",
    "Python has its own memory management, which means that it automatically allocates and deallocates memory.\n",
    "\"\"\"\n",
    "question = \"What is the main topic of the text?\"\n",
    "\n",
    "qa_result = qa_pipeline(question=question, context=context)\n",
    "print(qa_result)"
   ],
   "id": "72650eb7c6f9c0d2",
   "outputs": [
    {
     "name": "stdout",
     "output_type": "stream",
     "text": [
      "{'score': 0.06401262432336807, 'start': 50, 'end': 105, 'answer': 'web development, data analysis, artificial intelligence'}\n"
     ]
    }
   ],
   "execution_count": 10
  },
  {
   "metadata": {},
   "cell_type": "markdown",
   "source": [
    "<br>\n",
    "<br>\n",
    "<br>\n",
    "End of File"
   ],
   "id": "15c2bae0b2c8da86"
  }
 ],
 "metadata": {
  "kernelspec": {
   "display_name": "Python 3",
   "language": "python",
   "name": "python3"
  },
  "language_info": {
   "codemirror_mode": {
    "name": "ipython",
    "version": 2
   },
   "file_extension": ".py",
   "mimetype": "text/x-python",
   "name": "python",
   "nbconvert_exporter": "python",
   "pygments_lexer": "ipython2",
   "version": "2.7.6"
  }
 },
 "nbformat": 4,
 "nbformat_minor": 5
}
